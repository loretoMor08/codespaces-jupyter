{
 "cells": [
  {
   "cell_type": "code",
   "execution_count": 1,
   "metadata": {},
   "outputs": [
    {
     "name": "stdout",
     "output_type": "stream",
     "text": [
      "False\n",
      "el segundo numero es mayor\n"
     ]
    }
   ],
   "source": [
    "numero1=float(input(\"Escribe un numero entero\"))\n",
    "numero2=float(input(\"Escribe un numero entero diferente al anterior\"))\n",
    "print(numero1>=numero2)\n",
    "if numero1>=numero2:\n",
    "    print(\"el primer numero es mayor\")\n",
    "else:\n",
    "    print(\"el segundo numero es mayor\" )"
   ]
  }
 ],
 "metadata": {
  "kernelspec": {
   "display_name": "Python 3",
   "language": "python",
   "name": "python3"
  },
  "language_info": {
   "codemirror_mode": {
    "name": "ipython",
    "version": 3
   },
   "file_extension": ".py",
   "mimetype": "text/x-python",
   "name": "python",
   "nbconvert_exporter": "python",
   "pygments_lexer": "ipython3",
   "version": "3.10.13"
  }
 },
 "nbformat": 4,
 "nbformat_minor": 2
}
