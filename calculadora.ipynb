{
 "cells": [
  {
   "cell_type": "code",
   "execution_count": 2,
   "metadata": {},
   "outputs": [
    {
     "name": "stdout",
     "output_type": "stream",
     "text": [
      "23.0 * 12.0 =\n",
      "276.0\n"
     ]
    }
   ],
   "source": [
    "numero1=float(input(\"Escribe un numero entero\"))\n",
    "numero2=float(input(\"Escribe un numero entero\"))\n",
    "operacion= input(\"+, -, *, /\")\n",
    "print(numero1,operacion,numero2,\"=\")\n",
    "if operacion==\"+\":\n",
    "    print(numero1+numero2)\n",
    "if operacion==\"-\":\n",
    "    print(numero1-numero2)\n",
    "if operacion==\"*\":\n",
    "    print(numero1*numero2)\n",
    "if operacion==\"/\":\n",
    "    print(numero1/numero2)\n",
    "\n",
    "\n",
    "\n",
    "\n",
    "\n"
   ]
  }
 ],
 "metadata": {
  "kernelspec": {
   "display_name": "Python 3",
   "language": "python",
   "name": "python3"
  },
  "language_info": {
   "codemirror_mode": {
    "name": "ipython",
    "version": 3
   },
   "file_extension": ".py",
   "mimetype": "text/x-python",
   "name": "python",
   "nbconvert_exporter": "python",
   "pygments_lexer": "ipython3",
   "version": "3.10.13"
  }
 },
 "nbformat": 4,
 "nbformat_minor": 2
}
